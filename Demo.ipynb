{
 "cells": [
  {
   "cell_type": "markdown",
   "metadata": {},
   "source": [
    "Assuming you installed python, the dependencies and the packages....\n",
    "\n",
    "This is an ipython notebook (python in a web browser).\n",
    "\n",
    "Lines starting \"!\" are shell commands, you can also type them in a terminal."
   ]
  },
  {
   "cell_type": "code",
   "execution_count": null,
   "metadata": {},
   "outputs": [],
   "source": [
    "!dir *.inp"
   ]
  },
  {
   "cell_type": "raw",
   "metadata": {},
   "source": [
    "These came from:\n",
    " git clone http://github.com/jonwright/reciprocs2019\n",
    "\n",
    "Data generated from PolyXSim simulation code written by Henning Osholm Sorensen during TotalCryst EU project\n",
    "\n",
    "\n",
    "\n",
    "1. Run PolyXSim for the 3 examples"
   ]
  },
  {
   "cell_type": "code",
   "execution_count": null,
   "metadata": {},
   "outputs": [],
   "source": [
    "!PolyXsim.py -i Al.inp"
   ]
  },
  {
   "cell_type": "code",
   "execution_count": null,
   "metadata": {},
   "outputs": [],
   "source": [
    "!PolyXsim.py -i Al_S3.inp"
   ]
  },
  {
   "cell_type": "code",
   "execution_count": null,
   "metadata": {},
   "outputs": [],
   "source": [
    "!PolyXsim.py -i Al_many.inp"
   ]
  },
  {
   "cell_type": "markdown",
   "metadata": {},
   "source": [
    "First one is a single crystal.\n",
    "\n",
    "Second one in 5 twins (origin + 4x 3-fold rotation on [111] in generate_s3.py)\n",
    "\n",
    "Third one is a 5x5x5 grains artificial microstructure generated below:\n",
    "\n",
    "Generate 5x5x5 grains with orientations"
   ]
  },
  {
   "cell_type": "code",
   "execution_count": null,
   "metadata": {},
   "outputs": [],
   "source": [
    "import numpy as np, xfab.tools\n",
    "xyz=[np.array((i,j,k)) for i in range(-2,3) for j in range(-2,3) for k in range(-2,3)]\n",
    "rod0=np.array((0.23,0.17,0.13))\n",
    "rod1=np.array((1.3,1.7,1.9))/10.\n",
    "Umats = [xfab.tools.rod_to_u( (rod0+v)*rod1 ) for v in xyz]\n",
    "for i,(v,u) in enumerate(zip(xyz,Umats)):\n",
    "    print(\"U_grains_%d\"%(i),(\"%.6f \"*9)%tuple(u.ravel()))\n",
    "    print(\"pos_grains_%d\"%(i),(\"%.6f \"*3)%tuple(v/40.))\n",
    "    print(\"size_grains_%d 0.1\"%(i))"
   ]
  },
  {
   "cell_type": "markdown",
   "metadata": {},
   "source": [
    "View some images using fabian.py from the 3 simulations...\n",
    "\n",
    "- line profiles\n",
    "- zoom\n",
    "- change color\n",
    "- 3D plot\n",
    "- overlaps on 125 grains?"
   ]
  },
  {
   "cell_type": "code",
   "execution_count": null,
   "metadata": {
    "scrolled": true
   },
   "outputs": [],
   "source": [
    "!fabian.py Al_sx/Al_sx0000.edf"
   ]
  },
  {
   "cell_type": "code",
   "execution_count": null,
   "metadata": {},
   "outputs": [],
   "source": [
    "!fabian.py Al_s3/Al_s30000.edf"
   ]
  },
  {
   "cell_type": "code",
   "execution_count": null,
   "metadata": {},
   "outputs": [],
   "source": [
    "!fabian.py Al_many/Al_many0000.edf"
   ]
  },
  {
   "cell_type": "markdown",
   "metadata": {},
   "source": [
    "Now we run the peaksearch script on all 3 datasets.\n",
    "(Sorry - no gui - can be semi-automatic)"
   ]
  },
  {
   "cell_type": "code",
   "execution_count": null,
   "metadata": {},
   "outputs": [],
   "source": [
    "!peaksearch.py -n Al_sx/Al_sx -f 0 -l 359 -t 1 -o Alsx.spt"
   ]
  },
  {
   "cell_type": "code",
   "execution_count": null,
   "metadata": {},
   "outputs": [],
   "source": [
    "!peaksearch.py -n Al_s3/Al_s3 -f 0 -l 359 -t 1 -o Als3.spt"
   ]
  },
  {
   "cell_type": "code",
   "execution_count": null,
   "metadata": {},
   "outputs": [],
   "source": [
    "!peaksearch.py -n Al_many/Al_many -f 0 -l 719 -t 1 -o Almany.spt"
   ]
  },
  {
   "cell_type": "markdown",
   "metadata": {},
   "source": [
    "Now take a look at peaks found using fabian.py\n",
    "Then ImageD11_gui.py to get scattering vectors, plot in 3D and index"
   ]
  },
  {
   "cell_type": "code",
   "execution_count": null,
   "metadata": {},
   "outputs": [],
   "source": [
    "!fabian.py Al_many/Al_many0000.edf"
   ]
  },
  {
   "cell_type": "code",
   "execution_count": null,
   "metadata": {},
   "outputs": [],
   "source": [
    "# RUN FROM TERMINAL TO SEE OUTPUT\n",
    "# !ImageD11_gui.py\n",
    "# -> generates Al_many.ubi\n",
    "# ... can also use GrainSpotter by Soren Schmidt"
   ]
  },
  {
   "cell_type": "markdown",
   "metadata": {},
   "source": [
    "Fit the grain positions.... using makemap.py, see also \"FitAllB\" code (Jette Oddershede)\n",
    "\n"
   ]
  },
  {
   "cell_type": "code",
   "execution_count": null,
   "metadata": {},
   "outputs": [],
   "source": [
    "!makemap.py -u Almany_t1.ubi -U Almany_t1.map -f Almany_t1.flt -p Al_many/Al_many.par -t 0.01 --omega_slop=0.125"
   ]
  },
  {
   "cell_type": "code",
   "execution_count": null,
   "metadata": {},
   "outputs": [],
   "source": [
    "!ubi_to_gff.py Almany_t1.map Al_many/Al_many.par Almany_t1.gff"
   ]
  },
  {
   "cell_type": "code",
   "execution_count": null,
   "metadata": {},
   "outputs": [],
   "source": [
    "# Must run from terminal to view output\n",
    "# plot_gff.py -i Almany_t1 -d .1 -c cubic"
   ]
  },
  {
   "cell_type": "code",
   "execution_count": null,
   "metadata": {},
   "outputs": [],
   "source": [
    "!python C:\\Users\\wright\\AppData\\Local\\Continuum\\anaconda3\\envs\\py37\\Scripts\\plot3d.py Als3_t1.gve Als3_t1.ubi"
   ]
  },
  {
   "cell_type": "code",
   "execution_count": null,
   "metadata": {},
   "outputs": [],
   "source": []
  }
 ],
 "metadata": {
  "kernelspec": {
   "display_name": "Python 3",
   "language": "python",
   "name": "python3"
  },
  "language_info": {
   "codemirror_mode": {
    "name": "ipython",
    "version": 3
   },
   "file_extension": ".py",
   "mimetype": "text/x-python",
   "name": "python",
   "nbconvert_exporter": "python",
   "pygments_lexer": "ipython3",
   "version": "3.7.3"
  }
 },
 "nbformat": 4,
 "nbformat_minor": 2
}
